{
  "nbformat": 4,
  "nbformat_minor": 0,
  "metadata": {
    "colab": {
      "name": "FINANCIAL SCOPE EAST AFRICA.ipynb",
      "provenance": [],
      "collapsed_sections": [
        "tT6ZWVDt36Zq",
        "s2BiJV9f-AMN",
        "LLbbaFU2DVVZ"
      ],
      "authorship_tag": "ABX9TyN4mFQbJ4jV8copX3grtQG8",
      "include_colab_link": true
    },
    "kernelspec": {
      "display_name": "Python 3",
      "name": "python3"
    },
    "language_info": {
      "name": "python"
    }
  },
  "cells": [
    {
      "cell_type": "markdown",
      "metadata": {
        "id": "view-in-github",
        "colab_type": "text"
      },
      "source": [
        "<a href=\"https://colab.research.google.com/github/MaureenGatu/State-of-financial-inclusion-in-Kenya-Rwanda-Tanzania-and-Uganda/blob/main/FINANCIAL_SCOPE_EAST_AFRICA.ipynb\" target=\"_parent\"><img src=\"https://colab.research.google.com/assets/colab-badge.svg\" alt=\"Open In Colab\"/></a>"
      ]
    },
    {
      "cell_type": "markdown",
      "metadata": {
        "id": "Sg_uyR05npRm"
      },
      "source": [
        "\n",
        "#**State of financial inclusion in Kenya, Rwanda, Tanzania, and Uganda**\n",
        "\n",
        "\n",
        "\n",
        "\n"
      ]
    },
    {
      "cell_type": "markdown",
      "metadata": {
        "id": "zLSZjqeaoxoY"
      },
      "source": [
        "#RESEARCH QUESTION\n",
        "\n",
        "> The aim of this research is to analyze the data and determine the characteristics of people that are more likely to have a bank account by looking at the characteristics of the respondents in the study with a bank account.\n",
        "\n",
        "The main research question will be:\n",
        "\n",
        "> What are the main and common characteristics of persons with a bamk account?\n",
        "> What factors influence whether a person has a bank account?\n",
        "\n",
        "\n",
        "\n",
        "\n",
        "\n",
        "\n",
        "\n"
      ]
    },
    {
      "cell_type": "markdown",
      "metadata": {
        "id": "hzQ1PjlVqecZ"
      },
      "source": [
        "##Metric for Success\n",
        "\n",
        "\n",
        "> A successful analysis will provide definitive facters that influence a person to have a bank account\n"
      ]
    },
    {
      "cell_type": "markdown",
      "metadata": {
        "id": "qNzTJSsCq8iT"
      },
      "source": [
        "##Understanding the Context\n",
        "\n",
        "\n",
        "> Financial Inclusion remains one of the main obstacles to economic and human development in Africa. For example, across Kenya, Rwanda, Tanzania, and Uganda only 9.1 million adults (or 13.9% of the adult population) have access to or use a commercial bank account.Traditionally, access to bank accounts has been regarded as an indicator of financial inclusion. Despite the proliferation of mobile money in Africa and the growth of innovative fintech solutions, banks still play a pivotal role in facilitating access to financial services. Access to bank accounts enables households to save and facilitate payments while also helping businesses build up their credit-worthiness and improve their access to other financial services. Therefore, access to bank accounts is an essential contributor to long-term economic growth\n",
        "\n"
      ]
    },
    {
      "cell_type": "markdown",
      "metadata": {
        "id": "N_0egXQlrmqi"
      },
      "source": [
        "##Recording the Experimental Design\n",
        "\n",
        "1.   Define research question\n",
        "2.   Data Exploration\n",
        "3.   Univariate analysis\n",
        "4.   Bivariate Analysis\n",
        "5.   Multivariate Analysis\n",
        "6.   Summary of Findings\n",
        "7.   Challenging the solution\n",
        "\n",
        "\n"
      ]
    },
    {
      "cell_type": "markdown",
      "metadata": {
        "id": "8ma-RqeDsi4l"
      },
      "source": [
        "#**Data Exploration**"
      ]
    },
    {
      "cell_type": "code",
      "metadata": {
        "id": "LQzjTnRyshrT"
      },
      "source": [
        "#importing python libraries\n",
        "\n",
        "import pandas as pd\n",
        "import numpy as np\n",
        "import matplotlib.pyplot as plt\n",
        "import seaborn as sns\n",
        "import warnings\n",
        "from sklearn.discriminant_analysis import LinearDiscriminantAnalysis\n",
        "from sklearn.preprocessing import StandardScaler\n",
        "from sklearn.model_selection import train_test_split, GridSearchCV\n",
        "from sklearn.linear_model import LogisticRegression\n",
        "from sklearn.ensemble import RandomForestClassifier, GradientBoostingClassifier\n",
        "from sklearn.naive_bayes import BernoulliNB\n",
        "from sklearn.metrics import confusion_matrix, classification_report, accuracy_score, roc_auc_score\n",
        "from scipy.stats import chi2_contingency\n",
        "from scipy.stats import chi2\n",
        "\n",
        "#setting\n",
        "plt.rcParams['figure.figsize'] = (8.0,6.0) \n",
        "sns.set()\n",
        "warnings.filterwarnings('ignore')\n",
        "\n",
        "pd.set_option('display.max_rows', 500)\n",
        "pd.set_option('display.max_columns', 500)\n",
        "pd.set_option('display.width', 1000)\n",
        "colors = ['purple','green']\n",
        "\n"
      ],
      "execution_count": null,
      "outputs": []
    },
    {
      "cell_type": "code",
      "metadata": {
        "colab": {
          "base_uri": "https://localhost:8080/",
          "height": 421
        },
        "id": "uEuTHj0mrlyk",
        "outputId": "2c0f9a27-2868-4246-dd34-6f218e7181b2"
      },
      "source": [
        "#uploading the datasets\n",
        "#variable description dataset\n",
        "definations = pd.read_csv('http://bit.ly/VariableDefinitions')\n",
        "\n",
        "#preview of the variable definations\n",
        "definations"
      ],
      "execution_count": null,
      "outputs": [
        {
          "output_type": "execute_result",
          "data": {
            "text/html": [
              "<div>\n",
              "<style scoped>\n",
              "    .dataframe tbody tr th:only-of-type {\n",
              "        vertical-align: middle;\n",
              "    }\n",
              "\n",
              "    .dataframe tbody tr th {\n",
              "        vertical-align: top;\n",
              "    }\n",
              "\n",
              "    .dataframe thead th {\n",
              "        text-align: right;\n",
              "    }\n",
              "</style>\n",
              "<table border=\"1\" class=\"dataframe\">\n",
              "  <thead>\n",
              "    <tr style=\"text-align: right;\">\n",
              "      <th></th>\n",
              "      <th>Variable Definitions</th>\n",
              "      <th>Unnamed: 1</th>\n",
              "    </tr>\n",
              "  </thead>\n",
              "  <tbody>\n",
              "    <tr>\n",
              "      <th>0</th>\n",
              "      <td>country</td>\n",
              "      <td>Country interviewee is in.</td>\n",
              "    </tr>\n",
              "    <tr>\n",
              "      <th>1</th>\n",
              "      <td>year</td>\n",
              "      <td>Year survey was done in.</td>\n",
              "    </tr>\n",
              "    <tr>\n",
              "      <th>2</th>\n",
              "      <td>uniqueid</td>\n",
              "      <td>Unique identifier for each interviewee</td>\n",
              "    </tr>\n",
              "    <tr>\n",
              "      <th>3</th>\n",
              "      <td>location_type</td>\n",
              "      <td>Type of location: Rural, Urban</td>\n",
              "    </tr>\n",
              "    <tr>\n",
              "      <th>4</th>\n",
              "      <td>cellphone_access</td>\n",
              "      <td>If interviewee has access to a cellphone: Yes, No</td>\n",
              "    </tr>\n",
              "    <tr>\n",
              "      <th>5</th>\n",
              "      <td>household_size</td>\n",
              "      <td>Number of people living in one house</td>\n",
              "    </tr>\n",
              "    <tr>\n",
              "      <th>6</th>\n",
              "      <td>age_of_respondent</td>\n",
              "      <td>The age of the interviewee</td>\n",
              "    </tr>\n",
              "    <tr>\n",
              "      <th>7</th>\n",
              "      <td>gender_of_respondent</td>\n",
              "      <td>Gender of interviewee: Male, Female</td>\n",
              "    </tr>\n",
              "    <tr>\n",
              "      <th>8</th>\n",
              "      <td>relationship_with_head</td>\n",
              "      <td>The interviewee’s relationship with the head o...</td>\n",
              "    </tr>\n",
              "    <tr>\n",
              "      <th>9</th>\n",
              "      <td>marital_status</td>\n",
              "      <td>The martial status of the interviewee: Married...</td>\n",
              "    </tr>\n",
              "    <tr>\n",
              "      <th>10</th>\n",
              "      <td>education_level</td>\n",
              "      <td>Highest level of education: No formal educatio...</td>\n",
              "    </tr>\n",
              "    <tr>\n",
              "      <th>11</th>\n",
              "      <td>job_type</td>\n",
              "      <td>Type of job interviewee has: Farming and Fishi...</td>\n",
              "    </tr>\n",
              "  </tbody>\n",
              "</table>\n",
              "</div>"
            ],
            "text/plain": [
              "      Variable Definitions                                         Unnamed: 1\n",
              "0                  country                         Country interviewee is in.\n",
              "1                     year                           Year survey was done in.\n",
              "2                 uniqueid             Unique identifier for each interviewee\n",
              "3            location_type                     Type of location: Rural, Urban\n",
              "4         cellphone_access  If interviewee has access to a cellphone: Yes, No\n",
              "5           household_size               Number of people living in one house\n",
              "6        age_of_respondent                         The age of the interviewee\n",
              "7     gender_of_respondent                Gender of interviewee: Male, Female\n",
              "8   relationship_with_head  The interviewee’s relationship with the head o...\n",
              "9           marital_status  The martial status of the interviewee: Married...\n",
              "10         education_level  Highest level of education: No formal educatio...\n",
              "11                job_type  Type of job interviewee has: Farming and Fishi..."
            ]
          },
          "metadata": {
            "tags": []
          },
          "execution_count": 219
        }
      ]
    },
    {
      "cell_type": "code",
      "metadata": {
        "colab": {
          "base_uri": "https://localhost:8080/"
        },
        "id": "v7zvsAwMtm2b",
        "outputId": "819d3e24-0071-4779-8490-e610fad9f771"
      },
      "source": [
        "#uploading the dataset to be analysed\n",
        "fin = pd.read_csv('http://bit.ly/FinancialDataset')\n",
        "\n",
        "#previewing the first 5 rows of the dataset\n",
        "print('TOP 5 ROWS')\n",
        "print(' ')\n",
        "print(fin.head(5))\n",
        "print(' ')\n",
        "print('.......'*40)\n",
        "\n",
        "#preview of the last 5 rows of the dataset\n",
        "print('BOTTOM ROWS')\n",
        "print(' ')\n",
        "print(fin.tail(5))"
      ],
      "execution_count": null,
      "outputs": [
        {
          "output_type": "stream",
          "text": [
            "TOP 5 ROWS\n",
            " \n",
            "  country  year    uniqueid Has a Bank account Type of Location Cell Phone Access  household_size  Respondent Age gender_of_respondent The relathip with head           marital_status              Level of Educuation                Type of Job\n",
            "0   Kenya  2018  uniqueid_1                Yes            Rural               Yes             3.0            24.0               Female                 Spouse  Married/Living together              Secondary education              Self employed\n",
            "1   Kenya  2018  uniqueid_2                 No            Rural                No             5.0            70.0               Female      Head of Household                  Widowed              No formal education       Government Dependent\n",
            "2   Kenya  2018  uniqueid_3                Yes            Urban               Yes             5.0            26.0                 Male         Other relative     Single/Never Married  Vocational/Specialised training              Self employed\n",
            "3   Kenya  2018  uniqueid_4                 No            Rural               Yes             5.0            34.0               Female      Head of Household  Married/Living together                Primary education  Formally employed Private\n",
            "4   Kenya  2018  uniqueid_5                 No            Urban                No             8.0            26.0                 Male                  Child     Single/Never Married                Primary education        Informally employed\n",
            " \n",
            "........................................................................................................................................................................................................................................................................................\n",
            "BOTTOM ROWS\n",
            " \n",
            "      country  year       uniqueid Has a Bank account Type of Location Cell Phone Access  household_size  Respondent Age gender_of_respondent The relathip with head        marital_status  Level of Educuation    Type of Job\n",
            "23519  Uganda  2018  uniqueid_2113                 No            Rural               Yes             4.0            48.0               Female      Head of Household    Divorced/Seperated  No formal education   Other Income\n",
            "23520  Uganda  2018  uniqueid_2114                 No            Rural               Yes             2.0            27.0               Female      Head of Household  Single/Never Married  Secondary education   Other Income\n",
            "23521  Uganda  2018  uniqueid_2115                 No            Rural               Yes             5.0            27.0               Female                 Parent               Widowed    Primary education   Other Income\n",
            "23522  Uganda  2018  uniqueid_2116                 No            Urban               Yes             7.0            30.0               Female                 Parent    Divorced/Seperated  Secondary education  Self employed\n",
            "23523  Uganda  2018  uniqueid_2117                 No            Rural               Yes            10.0            20.0                 Male                  Child  Single/Never Married  Secondary education      No Income\n"
          ],
          "name": "stdout"
        }
      ]
    },
    {
      "cell_type": "code",
      "metadata": {
        "colab": {
          "base_uri": "https://localhost:8080/"
        },
        "id": "3v98EmPju3aT",
        "outputId": "1e690cf2-2ffd-44cb-8bda-09c76690fedd"
      },
      "source": [
        "#checking the data types and shape of the dataset\n",
        "fin.info()\n",
        "print(' ')\n",
        "print('....'*30)\n",
        "print('SHAPE')\n",
        "fin.shape"
      ],
      "execution_count": null,
      "outputs": [
        {
          "output_type": "stream",
          "text": [
            "<class 'pandas.core.frame.DataFrame'>\n",
            "RangeIndex: 23524 entries, 0 to 23523\n",
            "Data columns (total 13 columns):\n",
            " #   Column                  Non-Null Count  Dtype  \n",
            "---  ------                  --------------  -----  \n",
            " 0   country                 23510 non-null  object \n",
            " 1   year                    23524 non-null  int64  \n",
            " 2   uniqueid                23524 non-null  object \n",
            " 3   Has a Bank account      23488 non-null  object \n",
            " 4   Type of Location        23509 non-null  object \n",
            " 5   Cell Phone Access       23513 non-null  object \n",
            " 6   household_size          23496 non-null  float64\n",
            " 7   Respondent Age          23490 non-null  float64\n",
            " 8   gender_of_respondent    23490 non-null  object \n",
            " 9   The relathip with head  23520 non-null  object \n",
            " 10  marital_status          23492 non-null  object \n",
            " 11  Level of Educuation     23495 non-null  object \n",
            " 12  Type of Job             23494 non-null  object \n",
            "dtypes: float64(2), int64(1), object(10)\n",
            "memory usage: 2.3+ MB\n",
            " \n",
            "........................................................................................................................\n",
            "SHAPE\n"
          ],
          "name": "stdout"
        },
        {
          "output_type": "execute_result",
          "data": {
            "text/plain": [
              "(23524, 13)"
            ]
          },
          "metadata": {
            "tags": []
          },
          "execution_count": 158
        }
      ]
    },
    {
      "cell_type": "code",
      "metadata": {
        "colab": {
          "base_uri": "https://localhost:8080/"
        },
        "id": "To3PIYvnu3V1",
        "outputId": "39276052-1a4e-430b-a827-45a574873d34"
      },
      "source": [
        "#cheking for duplicates and missing values in the dataset\n",
        "print('DUPLICATES')\n",
        "print(fin.duplicated().sum())\n",
        "print(' ')\n",
        "print('...'*30)\n",
        "print('NUMBER OF NULL VALUES')\n",
        "print(' ')\n",
        "fin.isnull().sum()"
      ],
      "execution_count": null,
      "outputs": [
        {
          "output_type": "stream",
          "text": [
            "DUPLICATES\n",
            "0\n",
            " \n",
            "..........................................................................................\n",
            "NUMBER OF NULL VALUES\n",
            " \n"
          ],
          "name": "stdout"
        },
        {
          "output_type": "execute_result",
          "data": {
            "text/plain": [
              "country                   14\n",
              "year                       0\n",
              "uniqueid                   0\n",
              "Has a Bank account        36\n",
              "Type of Location          15\n",
              "Cell Phone Access         11\n",
              "household_size            28\n",
              "Respondent Age            34\n",
              "gender_of_respondent      34\n",
              "The relathip with head     4\n",
              "marital_status            32\n",
              "Level of Educuation       29\n",
              "Type of Job               30\n",
              "dtype: int64"
            ]
          },
          "metadata": {
            "tags": []
          },
          "execution_count": 159
        }
      ]
    },
    {
      "cell_type": "code",
      "metadata": {
        "colab": {
          "base_uri": "https://localhost:8080/"
        },
        "id": "SgNBW2SEwFBK",
        "outputId": "3345d43e-4ccf-4a47-bcf8-a4d4f3e774c4"
      },
      "source": [
        "#Dropping all the null values\n",
        "fin.dropna(inplace=True)\n",
        "\n",
        "#confirming the the nulls were dropped\n",
        "print('NUMBER OF NULL VALUES')\n",
        "print(' ')\n",
        "print(fin.isnull().sum())\n",
        "print(' ')\n",
        "print('....'*30)\n",
        "\n",
        "#Checking the new shape of the dataset\n",
        "print('NEW SHAPE')\n",
        "fin.shape"
      ],
      "execution_count": null,
      "outputs": [
        {
          "output_type": "stream",
          "text": [
            "NUMBER OF NULL VALUES\n",
            " \n",
            "country                   0\n",
            "year                      0\n",
            "uniqueid                  0\n",
            "Has a Bank account        0\n",
            "Type of Location          0\n",
            "Cell Phone Access         0\n",
            "household_size            0\n",
            "Respondent Age            0\n",
            "gender_of_respondent      0\n",
            "The relathip with head    0\n",
            "marital_status            0\n",
            "Level of Educuation       0\n",
            "Type of Job               0\n",
            "dtype: int64\n",
            " \n",
            "........................................................................................................................\n",
            "NEW SHAPE\n"
          ],
          "name": "stdout"
        },
        {
          "output_type": "execute_result",
          "data": {
            "text/plain": [
              "(23343, 13)"
            ]
          },
          "metadata": {
            "tags": []
          },
          "execution_count": 160
        }
      ]
    },
    {
      "cell_type": "code",
      "metadata": {
        "colab": {
          "base_uri": "https://localhost:8080/",
          "height": 677
        },
        "id": "PBuxZMEEw5YT",
        "outputId": "480044ff-9a09-44a1-bf02-1406a60074f9"
      },
      "source": [
        "# Renaming the misspelt column name\n",
        "fin.rename(columns={'Level of Educuation':'Level_of_Education'})"
      ],
      "execution_count": null,
      "outputs": [
        {
          "output_type": "execute_result",
          "data": {
            "text/html": [
              "<div>\n",
              "<style scoped>\n",
              "    .dataframe tbody tr th:only-of-type {\n",
              "        vertical-align: middle;\n",
              "    }\n",
              "\n",
              "    .dataframe tbody tr th {\n",
              "        vertical-align: top;\n",
              "    }\n",
              "\n",
              "    .dataframe thead th {\n",
              "        text-align: right;\n",
              "    }\n",
              "</style>\n",
              "<table border=\"1\" class=\"dataframe\">\n",
              "  <thead>\n",
              "    <tr style=\"text-align: right;\">\n",
              "      <th></th>\n",
              "      <th>country</th>\n",
              "      <th>year</th>\n",
              "      <th>uniqueid</th>\n",
              "      <th>Has a Bank account</th>\n",
              "      <th>Type of Location</th>\n",
              "      <th>Cell Phone Access</th>\n",
              "      <th>household_size</th>\n",
              "      <th>Respondent Age</th>\n",
              "      <th>gender_of_respondent</th>\n",
              "      <th>The relathip with head</th>\n",
              "      <th>marital_status</th>\n",
              "      <th>Level_of_Education</th>\n",
              "      <th>Type of Job</th>\n",
              "    </tr>\n",
              "  </thead>\n",
              "  <tbody>\n",
              "    <tr>\n",
              "      <th>0</th>\n",
              "      <td>Kenya</td>\n",
              "      <td>2018</td>\n",
              "      <td>uniqueid_1</td>\n",
              "      <td>Yes</td>\n",
              "      <td>Rural</td>\n",
              "      <td>Yes</td>\n",
              "      <td>3.0</td>\n",
              "      <td>24.0</td>\n",
              "      <td>Female</td>\n",
              "      <td>Spouse</td>\n",
              "      <td>Married/Living together</td>\n",
              "      <td>Secondary education</td>\n",
              "      <td>Self employed</td>\n",
              "    </tr>\n",
              "    <tr>\n",
              "      <th>1</th>\n",
              "      <td>Kenya</td>\n",
              "      <td>2018</td>\n",
              "      <td>uniqueid_2</td>\n",
              "      <td>No</td>\n",
              "      <td>Rural</td>\n",
              "      <td>No</td>\n",
              "      <td>5.0</td>\n",
              "      <td>70.0</td>\n",
              "      <td>Female</td>\n",
              "      <td>Head of Household</td>\n",
              "      <td>Widowed</td>\n",
              "      <td>No formal education</td>\n",
              "      <td>Government Dependent</td>\n",
              "    </tr>\n",
              "    <tr>\n",
              "      <th>2</th>\n",
              "      <td>Kenya</td>\n",
              "      <td>2018</td>\n",
              "      <td>uniqueid_3</td>\n",
              "      <td>Yes</td>\n",
              "      <td>Urban</td>\n",
              "      <td>Yes</td>\n",
              "      <td>5.0</td>\n",
              "      <td>26.0</td>\n",
              "      <td>Male</td>\n",
              "      <td>Other relative</td>\n",
              "      <td>Single/Never Married</td>\n",
              "      <td>Vocational/Specialised training</td>\n",
              "      <td>Self employed</td>\n",
              "    </tr>\n",
              "    <tr>\n",
              "      <th>3</th>\n",
              "      <td>Kenya</td>\n",
              "      <td>2018</td>\n",
              "      <td>uniqueid_4</td>\n",
              "      <td>No</td>\n",
              "      <td>Rural</td>\n",
              "      <td>Yes</td>\n",
              "      <td>5.0</td>\n",
              "      <td>34.0</td>\n",
              "      <td>Female</td>\n",
              "      <td>Head of Household</td>\n",
              "      <td>Married/Living together</td>\n",
              "      <td>Primary education</td>\n",
              "      <td>Formally employed Private</td>\n",
              "    </tr>\n",
              "    <tr>\n",
              "      <th>4</th>\n",
              "      <td>Kenya</td>\n",
              "      <td>2018</td>\n",
              "      <td>uniqueid_5</td>\n",
              "      <td>No</td>\n",
              "      <td>Urban</td>\n",
              "      <td>No</td>\n",
              "      <td>8.0</td>\n",
              "      <td>26.0</td>\n",
              "      <td>Male</td>\n",
              "      <td>Child</td>\n",
              "      <td>Single/Never Married</td>\n",
              "      <td>Primary education</td>\n",
              "      <td>Informally employed</td>\n",
              "    </tr>\n",
              "    <tr>\n",
              "      <th>...</th>\n",
              "      <td>...</td>\n",
              "      <td>...</td>\n",
              "      <td>...</td>\n",
              "      <td>...</td>\n",
              "      <td>...</td>\n",
              "      <td>...</td>\n",
              "      <td>...</td>\n",
              "      <td>...</td>\n",
              "      <td>...</td>\n",
              "      <td>...</td>\n",
              "      <td>...</td>\n",
              "      <td>...</td>\n",
              "      <td>...</td>\n",
              "    </tr>\n",
              "    <tr>\n",
              "      <th>23519</th>\n",
              "      <td>Uganda</td>\n",
              "      <td>2018</td>\n",
              "      <td>uniqueid_2113</td>\n",
              "      <td>No</td>\n",
              "      <td>Rural</td>\n",
              "      <td>Yes</td>\n",
              "      <td>4.0</td>\n",
              "      <td>48.0</td>\n",
              "      <td>Female</td>\n",
              "      <td>Head of Household</td>\n",
              "      <td>Divorced/Seperated</td>\n",
              "      <td>No formal education</td>\n",
              "      <td>Other Income</td>\n",
              "    </tr>\n",
              "    <tr>\n",
              "      <th>23520</th>\n",
              "      <td>Uganda</td>\n",
              "      <td>2018</td>\n",
              "      <td>uniqueid_2114</td>\n",
              "      <td>No</td>\n",
              "      <td>Rural</td>\n",
              "      <td>Yes</td>\n",
              "      <td>2.0</td>\n",
              "      <td>27.0</td>\n",
              "      <td>Female</td>\n",
              "      <td>Head of Household</td>\n",
              "      <td>Single/Never Married</td>\n",
              "      <td>Secondary education</td>\n",
              "      <td>Other Income</td>\n",
              "    </tr>\n",
              "    <tr>\n",
              "      <th>23521</th>\n",
              "      <td>Uganda</td>\n",
              "      <td>2018</td>\n",
              "      <td>uniqueid_2115</td>\n",
              "      <td>No</td>\n",
              "      <td>Rural</td>\n",
              "      <td>Yes</td>\n",
              "      <td>5.0</td>\n",
              "      <td>27.0</td>\n",
              "      <td>Female</td>\n",
              "      <td>Parent</td>\n",
              "      <td>Widowed</td>\n",
              "      <td>Primary education</td>\n",
              "      <td>Other Income</td>\n",
              "    </tr>\n",
              "    <tr>\n",
              "      <th>23522</th>\n",
              "      <td>Uganda</td>\n",
              "      <td>2018</td>\n",
              "      <td>uniqueid_2116</td>\n",
              "      <td>No</td>\n",
              "      <td>Urban</td>\n",
              "      <td>Yes</td>\n",
              "      <td>7.0</td>\n",
              "      <td>30.0</td>\n",
              "      <td>Female</td>\n",
              "      <td>Parent</td>\n",
              "      <td>Divorced/Seperated</td>\n",
              "      <td>Secondary education</td>\n",
              "      <td>Self employed</td>\n",
              "    </tr>\n",
              "    <tr>\n",
              "      <th>23523</th>\n",
              "      <td>Uganda</td>\n",
              "      <td>2018</td>\n",
              "      <td>uniqueid_2117</td>\n",
              "      <td>No</td>\n",
              "      <td>Rural</td>\n",
              "      <td>Yes</td>\n",
              "      <td>10.0</td>\n",
              "      <td>20.0</td>\n",
              "      <td>Male</td>\n",
              "      <td>Child</td>\n",
              "      <td>Single/Never Married</td>\n",
              "      <td>Secondary education</td>\n",
              "      <td>No Income</td>\n",
              "    </tr>\n",
              "  </tbody>\n",
              "</table>\n",
              "<p>23343 rows × 13 columns</p>\n",
              "</div>"
            ],
            "text/plain": [
              "      country  year       uniqueid Has a Bank account Type of Location Cell Phone Access  household_size  Respondent Age gender_of_respondent The relathip with head           marital_status               Level_of_Education                Type of Job\n",
              "0       Kenya  2018     uniqueid_1                Yes            Rural               Yes             3.0            24.0               Female                 Spouse  Married/Living together              Secondary education              Self employed\n",
              "1       Kenya  2018     uniqueid_2                 No            Rural                No             5.0            70.0               Female      Head of Household                  Widowed              No formal education       Government Dependent\n",
              "2       Kenya  2018     uniqueid_3                Yes            Urban               Yes             5.0            26.0                 Male         Other relative     Single/Never Married  Vocational/Specialised training              Self employed\n",
              "3       Kenya  2018     uniqueid_4                 No            Rural               Yes             5.0            34.0               Female      Head of Household  Married/Living together                Primary education  Formally employed Private\n",
              "4       Kenya  2018     uniqueid_5                 No            Urban                No             8.0            26.0                 Male                  Child     Single/Never Married                Primary education        Informally employed\n",
              "...       ...   ...            ...                ...              ...               ...             ...             ...                  ...                    ...                      ...                              ...                        ...\n",
              "23519  Uganda  2018  uniqueid_2113                 No            Rural               Yes             4.0            48.0               Female      Head of Household       Divorced/Seperated              No formal education               Other Income\n",
              "23520  Uganda  2018  uniqueid_2114                 No            Rural               Yes             2.0            27.0               Female      Head of Household     Single/Never Married              Secondary education               Other Income\n",
              "23521  Uganda  2018  uniqueid_2115                 No            Rural               Yes             5.0            27.0               Female                 Parent                  Widowed                Primary education               Other Income\n",
              "23522  Uganda  2018  uniqueid_2116                 No            Urban               Yes             7.0            30.0               Female                 Parent       Divorced/Seperated              Secondary education              Self employed\n",
              "23523  Uganda  2018  uniqueid_2117                 No            Rural               Yes            10.0            20.0                 Male                  Child     Single/Never Married              Secondary education                  No Income\n",
              "\n",
              "[23343 rows x 13 columns]"
            ]
          },
          "metadata": {
            "tags": []
          },
          "execution_count": 161
        }
      ]
    },
    {
      "cell_type": "code",
      "metadata": {
        "colab": {
          "base_uri": "https://localhost:8080/"
        },
        "id": "7TlZJrPvxjRi",
        "outputId": "2db5f49b-37ef-4a0e-fdc5-308c4fc21ed0"
      },
      "source": [
        "#checking the data entries\n",
        "\n",
        "#year \n",
        "print('year')\n",
        "print(fin['year'].unique())\n",
        "print(' ')\n",
        "print('Level of Education')\n",
        "print(fin['Level of Educuation'].unique())"
      ],
      "execution_count": null,
      "outputs": [
        {
          "output_type": "stream",
          "text": [
            "year\n",
            "[2018 2029 2056 2016 2039 2017]\n",
            " \n",
            "Level of Education\n",
            "['Secondary education' 'No formal education'\n",
            " 'Vocational/Specialised training' 'Primary education'\n",
            " 'Tertiary education' 'Other/Dont know/RTA' '6']\n"
          ],
          "name": "stdout"
        }
      ]
    },
    {
      "cell_type": "code",
      "metadata": {
        "colab": {
          "base_uri": "https://localhost:8080/"
        },
        "id": "qN6NMNX0ydya",
        "outputId": "a5452157-4340-4eb7-baea-f37ef4c54e2d"
      },
      "source": [
        "#Looking up the annomalies\n",
        "print('year annomalies')\n",
        "print(fin[fin['year'].isin([2029,2056,2039])])\n",
        "print(' ')\n",
        "print('...'*40)\n",
        "print('Education Annomaly')\n",
        "print(' ')\n",
        "print(fin[fin['Level of Educuation']=='6'])"
      ],
      "execution_count": null,
      "outputs": [
        {
          "output_type": "stream",
          "text": [
            "year annomalies\n",
            "     country  year      uniqueid Has a Bank account Type of Location Cell Phone Access  household_size  Respondent Age gender_of_respondent The relathip with head           marital_status  Level of Educuation                Type of Job\n",
            "213    Kenya  2029  uniqueid_214                 No            Urban               Yes             6.0            16.0                 Male         Other relative     Single/Never Married  Secondary education       Remittance Dependent\n",
            "308    Kenya  2056  uniqueid_309                Yes            Urban               Yes             4.0            40.0                 Male      Head of Household  Married/Living together   Tertiary education  Formally employed Private\n",
            "7014  Rwanda  2039  uniqueid_947                 No            Rural               Yes             3.0            24.0               Female                 Spouse  Married/Living together    Primary education        Informally employed\n",
            " \n",
            "........................................................................................................................\n",
            "Education Annomaly\n",
            " \n",
            "        country  year       uniqueid Has a Bank account Type of Location Cell Phone Access  household_size  Respondent Age gender_of_respondent The relathip with head           marital_status Level of Educuation                Type of Job\n",
            "6867     Rwanda  2016   uniqueid_800                 No            Rural                No             5.0            34.0               Female                 Spouse  Married/Living together                   6        Informally employed\n",
            "7937     Rwanda  2016  uniqueid_1870                 No            Rural                No             8.0            31.0               Female                 Spouse  Married/Living together                   6        Informally employed\n",
            "8226     Rwanda  2016  uniqueid_2159                 No            Rural                No             2.0            80.0                 Male      Head of Household  Married/Living together                   6        Informally employed\n",
            "8453     Rwanda  2016  uniqueid_2386                 No            Urban               Yes             3.0            36.0               Female      Head of Household       Divorced/Seperated                   6        Informally employed\n",
            "8778     Rwanda  2016  uniqueid_2711                 No            Rural               Yes             4.0            44.0                 Male      Head of Household  Married/Living together                   6        Informally employed\n",
            "9269     Rwanda  2016  uniqueid_3202                Yes            Urban               Yes             2.0            70.0               Female      Head of Household                  Widowed                   6       Remittance Dependent\n",
            "9878     Rwanda  2016  uniqueid_3811                 No            Rural                No             2.0            48.0               Female                 Spouse  Married/Living together                   6  Formally employed Private\n",
            "9944     Rwanda  2016  uniqueid_3877                Yes            Urban               Yes             3.0            38.0                 Male      Head of Household  Married/Living together                   6        Informally employed\n",
            "10560    Rwanda  2016  uniqueid_4493                 No            Rural               Yes             6.0            48.0               Female                 Spouse  Married/Living together                   6        Informally employed\n",
            "10767    Rwanda  2016  uniqueid_4700                 No            Rural                No             2.0            63.0               Female      Head of Household       Divorced/Seperated                   6        Informally employed\n",
            "10944    Rwanda  2016  uniqueid_4877                 No            Rural                No             2.0            85.0                 Male      Head of Household  Married/Living together                   6        Informally employed\n",
            "12358    Rwanda  2016  uniqueid_6291                 No            Rural                No             5.0            57.0               Female                 Spouse  Married/Living together                   6        Informally employed\n",
            "13404    Rwanda  2016  uniqueid_7337                Yes            Urban               Yes             1.0            63.0               Female      Head of Household                  Widowed                   6        Informally employed\n",
            "13727    Rwanda  2016  uniqueid_7660                 No            Rural                No             7.0            35.0               Female                 Spouse  Married/Living together                   6        Informally employed\n",
            "14277    Rwanda  2016  uniqueid_8210                 No            Urban               Yes             6.0            65.0                 Male      Head of Household                  Widowed                   6        Informally employed\n",
            "14513    Rwanda  2016  uniqueid_8446                Yes            Rural               Yes             6.0            43.0               Female                 Spouse  Married/Living together                   6               Other Income\n",
            "14692    Rwanda  2016  uniqueid_8636                 No            Rural               Yes             6.0            48.0               Female                 Spouse  Married/Living together                   6        Informally employed\n",
            "14706    Rwanda  2016  uniqueid_8652                 No            Urban                No             3.0            80.0               Female      Head of Household                  Widowed                   6       Remittance Dependent\n",
            "14892  Tanzania  2017    uniqueid_90                 No            Urban               Yes             1.0            69.0                 Male      Head of Household                  Widowed                   6        Informally employed\n",
            "15379  Tanzania  2017   uniqueid_577                Yes            Rural               Yes             1.0            71.0                 Male      Head of Household     Single/Never Married                   6       Government Dependent\n",
            "19695  Tanzania  2017  uniqueid_4893                 No            Urban                No             1.0            80.0               Female      Head of Household                  Widowed                   6              Self employed\n",
            "21988    Uganda  2018   uniqueid_566                 No            Rural               Yes             1.0            23.0               Female      Head of Household     Single/Never Married                   6              Self employed\n",
            "22046    Uganda  2018   uniqueid_624                 No            Urban               Yes             2.0            24.0               Female                 Spouse  Married/Living together                   6                  No Income\n",
            "22101    Uganda  2018   uniqueid_679                 No            Rural               Yes             6.0            30.0               Female                 Spouse  Married/Living together                   6                  No Income\n",
            "22224    Uganda  2018   uniqueid_802                 No            Urban               Yes             2.0            20.0               Female                 Spouse  Married/Living together                   6                  No Income\n",
            "22643    Uganda  2018  uniqueid_1221                 No            Rural                No            12.0            18.0                 Male         Other relative     Single/Never Married                   6              Self employed\n",
            "22760    Uganda  2018  uniqueid_1338                 No            Urban               Yes             4.0            60.0                 Male      Head of Household  Married/Living together                   6              Self employed\n"
          ],
          "name": "stdout"
        }
      ]
    },
    {
      "cell_type": "code",
      "metadata": {
        "id": "002OwlaPzpa0"
      },
      "source": [
        "#dropping the rows with the annomalies\n",
        "odd = fin[fin['year'].isin([2029,2056,2039])].index\n",
        "fin.drop(index=odd, inplace=True)"
      ],
      "execution_count": null,
      "outputs": []
    },
    {
      "cell_type": "code",
      "metadata": {
        "id": "cQE746lo0E7k"
      },
      "source": [
        "#drop any row with 'nan' entry\n",
        "j = fin[fin['household_size'].isin(['nan'])].index\n",
        "fin.drop(index=j, inplace=True)\n",
        "fin['The relathip with head'].unique()\n",
        "j = fin[fin['Type of Location'].isin(['nan'])].index\n",
        "fin.drop(index=j, inplace=True)\n",
        "j = fin[fin['Respondent Age'].isin(['nan'])].index\n",
        "fin.drop(index=j, inplace=True)\n",
        "j = fin[fin['The relathip with head'].isin(['nan'])].index\n",
        "fin.drop(index=j, inplace=True)\n"
      ],
      "execution_count": null,
      "outputs": []
    },
    {
      "cell_type": "code",
      "metadata": {
        "colab": {
          "base_uri": "https://localhost:8080/"
        },
        "id": "0fG8kPle1WRX",
        "outputId": "fdcfdc73-3cc6-4545-8577-fa259a354683"
      },
      "source": [
        "#checking the new shape of our data\n",
        "fin.shape"
      ],
      "execution_count": null,
      "outputs": [
        {
          "output_type": "execute_result",
          "data": {
            "text/plain": [
              "(23340, 13)"
            ]
          },
          "metadata": {
            "tags": []
          },
          "execution_count": 167
        }
      ]
    },
    {
      "cell_type": "code",
      "metadata": {
        "id": "UOJZB47N3gKH"
      },
      "source": [
        "# removing outliers\n",
        "Q1=fin.quantile(0.25)\n",
        "Q3=fin.quantile(0.75)\n",
        "IQR=Q3-Q1\n",
        "fin=fin[~((fin<(Q1-1.5*IQR))|(fin>(Q3+1.5*IQR))).any(axis=1)]"
      ],
      "execution_count": null,
      "outputs": []
    },
    {
      "cell_type": "markdown",
      "metadata": {
        "id": "32ii2V4S2pYk"
      },
      "source": [
        "##EXPLORATORY DATA ANALYSIS"
      ]
    },
    {
      "cell_type": "markdown",
      "metadata": {
        "id": "RGoBFTL32igK"
      },
      "source": [
        "###UNIVARIATE ANALYSIS"
      ]
    },
    {
      "cell_type": "code",
      "metadata": {
        "colab": {
          "base_uri": "https://localhost:8080/",
          "height": 297
        },
        "id": "2zLw0FIY2ns-",
        "outputId": "122a542a-b7aa-460a-973e-002e2bf4ad21"
      },
      "source": [
        "#Data describe of the age, year and householde size\n",
        "\n",
        "fin.describe()"
      ],
      "execution_count": null,
      "outputs": [
        {
          "output_type": "execute_result",
          "data": {
            "text/html": [
              "<div>\n",
              "<style scoped>\n",
              "    .dataframe tbody tr th:only-of-type {\n",
              "        vertical-align: middle;\n",
              "    }\n",
              "\n",
              "    .dataframe tbody tr th {\n",
              "        vertical-align: top;\n",
              "    }\n",
              "\n",
              "    .dataframe thead th {\n",
              "        text-align: right;\n",
              "    }\n",
              "</style>\n",
              "<table border=\"1\" class=\"dataframe\">\n",
              "  <thead>\n",
              "    <tr style=\"text-align: right;\">\n",
              "      <th></th>\n",
              "      <th>year</th>\n",
              "      <th>household_size</th>\n",
              "      <th>Respondent Age</th>\n",
              "    </tr>\n",
              "  </thead>\n",
              "  <tbody>\n",
              "    <tr>\n",
              "      <th>count</th>\n",
              "      <td>22725.000000</td>\n",
              "      <td>22725.000000</td>\n",
              "      <td>22725.000000</td>\n",
              "    </tr>\n",
              "    <tr>\n",
              "      <th>mean</th>\n",
              "      <td>2016.968185</td>\n",
              "      <td>3.579846</td>\n",
              "      <td>38.347987</td>\n",
              "    </tr>\n",
              "    <tr>\n",
              "      <th>std</th>\n",
              "      <td>0.846366</td>\n",
              "      <td>2.080542</td>\n",
              "      <td>15.806141</td>\n",
              "    </tr>\n",
              "    <tr>\n",
              "      <th>min</th>\n",
              "      <td>2016.000000</td>\n",
              "      <td>0.000000</td>\n",
              "      <td>16.000000</td>\n",
              "    </tr>\n",
              "    <tr>\n",
              "      <th>25%</th>\n",
              "      <td>2016.000000</td>\n",
              "      <td>2.000000</td>\n",
              "      <td>26.000000</td>\n",
              "    </tr>\n",
              "    <tr>\n",
              "      <th>50%</th>\n",
              "      <td>2017.000000</td>\n",
              "      <td>3.000000</td>\n",
              "      <td>35.000000</td>\n",
              "    </tr>\n",
              "    <tr>\n",
              "      <th>75%</th>\n",
              "      <td>2018.000000</td>\n",
              "      <td>5.000000</td>\n",
              "      <td>48.000000</td>\n",
              "    </tr>\n",
              "    <tr>\n",
              "      <th>max</th>\n",
              "      <td>2018.000000</td>\n",
              "      <td>9.000000</td>\n",
              "      <td>83.000000</td>\n",
              "    </tr>\n",
              "  </tbody>\n",
              "</table>\n",
              "</div>"
            ],
            "text/plain": [
              "               year  household_size  Respondent Age\n",
              "count  22725.000000    22725.000000    22725.000000\n",
              "mean    2016.968185        3.579846       38.347987\n",
              "std        0.846366        2.080542       15.806141\n",
              "min     2016.000000        0.000000       16.000000\n",
              "25%     2016.000000        2.000000       26.000000\n",
              "50%     2017.000000        3.000000       35.000000\n",
              "75%     2018.000000        5.000000       48.000000\n",
              "max     2018.000000        9.000000       83.000000"
            ]
          },
          "metadata": {
            "tags": []
          },
          "execution_count": 169
        }
      ]
    },
    {
      "cell_type": "markdown",
      "metadata": {
        "id": "tT6ZWVDt36Zq"
      },
      "source": [
        "####Measures Of Central Tendancies"
      ]
    },
    {
      "cell_type": "code",
      "metadata": {
        "colab": {
          "base_uri": "https://localhost:8080/"
        },
        "id": "nmowoW4W6Pl9",
        "outputId": "371daaf2-9189-4c26-f6c8-3bf02809167f"
      },
      "source": [
        "#creating sub dataset of those with and those without bank account\n",
        "#.........................\n",
        "#activie\n",
        "print('WITH BANK')\n",
        "withbank = fin[fin['Has a Bank account']=='Yes']\n",
        "print(withbank.head(5))\n",
        "print('  ')\n",
        "print('SHAPE')\n",
        "print(withbank.shape)\n",
        "\n",
        "#.................................\n",
        "print('....'*20)\n",
        "print('  ')\n",
        "print('WITHOUT BANK')\n",
        "\n",
        "\n",
        "#............................\n",
        "withoutbank = fin[fin['Has a Bank account']=='No']\n",
        "print(withoutbank.head(5))\n",
        "print('  ')\n",
        "print('SHAPE')\n",
        "print(withoutbank.shape)"
      ],
      "execution_count": null,
      "outputs": [
        {
          "output_type": "stream",
          "text": [
            "WITH BANK\n",
            "   country  year     uniqueid Has a Bank account Type of Location Cell Phone Access  household_size  Respondent Age gender_of_respondent The relathip with head           marital_status              Level of Educuation          Type of Job\n",
            "0    Kenya  2018   uniqueid_1                Yes            Rural               Yes             3.0            24.0               Female                 Spouse  Married/Living together              Secondary education        Self employed\n",
            "2    Kenya  2018   uniqueid_3                Yes            Urban               Yes             5.0            26.0                 Male         Other relative     Single/Never Married  Vocational/Specialised training        Self employed\n",
            "8    Kenya  2018   uniqueid_9                Yes            Rural               Yes             3.0            54.0                 Male      Head of Household  Married/Living together              Secondary education  Farming and Fishing\n",
            "11   Kenya  2018  uniqueid_12                Yes            Rural               Yes             3.0            69.0                 Male      Head of Household  Married/Living together              Secondary education         Other Income\n",
            "17   Kenya  2018  uniqueid_18                Yes            Rural               Yes             6.0            27.0               Female      Head of Household  Married/Living together              Secondary education        Self employed\n",
            "  \n",
            "SHAPE\n",
            "(3235, 13)\n",
            "................................................................................\n",
            "  \n",
            "WITHOUT BANK\n",
            "  country  year    uniqueid Has a Bank account Type of Location Cell Phone Access  household_size  Respondent Age gender_of_respondent The relathip with head           marital_status  Level of Educuation                Type of Job\n",
            "1   Kenya  2018  uniqueid_2                 No            Rural                No             5.0            70.0               Female      Head of Household                  Widowed  No formal education       Government Dependent\n",
            "3   Kenya  2018  uniqueid_4                 No            Rural               Yes             5.0            34.0               Female      Head of Household  Married/Living together    Primary education  Formally employed Private\n",
            "4   Kenya  2018  uniqueid_5                 No            Urban                No             8.0            26.0                 Male                  Child     Single/Never Married    Primary education        Informally employed\n",
            "5   Kenya  2018  uniqueid_6                 No            Rural                No             7.0            26.0               Female                 Spouse  Married/Living together    Primary education        Informally employed\n",
            "6   Kenya  2018  uniqueid_7                 No            Rural               Yes             7.0            32.0               Female                 Spouse  Married/Living together    Primary education              Self employed\n",
            "  \n",
            "SHAPE\n",
            "(19490, 13)\n"
          ],
          "name": "stdout"
        }
      ]
    },
    {
      "cell_type": "code",
      "metadata": {
        "colab": {
          "base_uri": "https://localhost:8080/"
        },
        "id": "MItrbrZZ3wlT",
        "outputId": "168a79e4-845b-49dc-e0b8-0aeba45b8a26"
      },
      "source": [
        "#age\n",
        "print(f\"Age meam     :{fin['Respondent Age'].mean()}\")\n",
        "print(f\"Age median   :{fin['Respondent Age'].median()}\")\n",
        "print(f\"Age max     :{fin['Respondent Age'].max()}\")\n",
        "print(f\"Age min     :{fin['Respondent Age'].min()}\")\n",
        "print(f\"Age mode     :{fin['Respondent Age'].mode()}\")"
      ],
      "execution_count": null,
      "outputs": [
        {
          "output_type": "stream",
          "text": [
            "Age meam     :38.34798679867987\n",
            "Age median   :35.0\n",
            "Age max     :83.0\n",
            "Age min     :16.0\n",
            "Age mode     :0    30.0\n",
            "dtype: float64\n"
          ],
          "name": "stdout"
        }
      ]
    },
    {
      "cell_type": "code",
      "metadata": {
        "colab": {
          "base_uri": "https://localhost:8080/"
        },
        "id": "Vtt8boCM4JlL",
        "outputId": "c9a882f3-6545-43b8-fc10-664d212b9bea"
      },
      "source": [
        "#household size\n",
        "print(f\"household_size meam     :{fin['household_size'].mean()}\")\n",
        "print(f\"household_size median   :{fin['household_size'].median()}\")\n",
        "print(f\"household_size max     :{fin['household_size'].max()}\")\n",
        "print(f\"household_size min     :{fin['household_size'].min()}\")\n",
        "print(f\"household_size mode     :{fin['household_size'].mode()}\")"
      ],
      "execution_count": null,
      "outputs": [
        {
          "output_type": "stream",
          "text": [
            "household_size meam     :3.57984598459846\n",
            "household_size median   :3.0\n",
            "household_size max     :9.0\n",
            "household_size min     :0.0\n",
            "household_size mode     :0    2.0\n",
            "dtype: float64\n"
          ],
          "name": "stdout"
        }
      ]
    },
    {
      "cell_type": "markdown",
      "metadata": {
        "id": "s2BiJV9f-AMN"
      },
      "source": [
        "####Measures of Despersion"
      ]
    },
    {
      "cell_type": "code",
      "metadata": {
        "colab": {
          "base_uri": "https://localhost:8080/"
        },
        "id": "VpqB9Y7H8F3A",
        "outputId": "d0830d82-c159-4eac-cde2-a362a61056dd"
      },
      "source": [
        "#FREQUENCY ANALYSIS\n",
        "freq = withbank.select_dtypes(include='object').columns.to_list()\n",
        "for col in freq:\n",
        "  print(f'Frequency: {col}')\n",
        "  print(withbank[col].value_counts().sort_values(ascending=False))\n",
        "  print(' ')\n"
      ],
      "execution_count": null,
      "outputs": [
        {
          "output_type": "stream",
          "text": [
            "Frequency: country\n",
            "Kenya       1491\n",
            "Rwanda       980\n",
            "Tanzania     598\n",
            "Uganda       166\n",
            "Name: country, dtype: int64\n",
            " \n",
            "Frequency: uniqueid\n",
            "uniqueid_719     4\n",
            "uniqueid_4619    3\n",
            "uniqueid_1228    3\n",
            "uniqueid_4579    3\n",
            "uniqueid_3938    3\n",
            "                ..\n",
            "uniqueid_3806    1\n",
            "uniqueid_4300    1\n",
            "uniqueid_3127    1\n",
            "uniqueid_70      1\n",
            "uniqueid_1499    1\n",
            "Name: uniqueid, Length: 2801, dtype: int64\n",
            " \n",
            "Frequency: Has a Bank account\n",
            "Yes    3235\n",
            "Name: Has a Bank account, dtype: int64\n",
            " \n",
            "Frequency: Type of Location\n",
            "Urban    1620\n",
            "Rural    1615\n",
            "Name: Type of Location, dtype: int64\n",
            " \n",
            "Frequency: Cell Phone Access\n",
            "Yes    3142\n",
            "No       93\n",
            "Name: Cell Phone Access, dtype: int64\n",
            " \n",
            "Frequency: gender_of_respondent\n",
            "Male      1782\n",
            "Female    1453\n",
            "Name: gender_of_respondent, dtype: int64\n",
            " \n",
            "Frequency: The relathip with head\n",
            "Head of Household      2221\n",
            "Spouse                  688\n",
            "Child                   185\n",
            "Other relative           64\n",
            "Parent                   58\n",
            "Other non-relatives      19\n",
            "Name: The relathip with head, dtype: int64\n",
            " \n",
            "Frequency: marital_status\n",
            "Married/Living together    1827\n",
            "Single/Never Married        946\n",
            "Widowed                     230\n",
            "Divorced/Seperated          230\n",
            "Dont know                     2\n",
            "Name: marital_status, dtype: int64\n",
            " \n",
            "Frequency: Level of Educuation\n",
            "Primary education                  1061\n",
            "Secondary education                 968\n",
            "Tertiary education                  584\n",
            "Vocational/Specialised training     450\n",
            "No formal education                 161\n",
            "Other/Dont know/RTA                   6\n",
            "6                                     5\n",
            "Name: Level of Educuation, dtype: int64\n",
            " \n",
            "Frequency: Type of Job\n",
            "Self employed                   835\n",
            "Farming and Fishing             620\n",
            "Formally employed Private       564\n",
            "Informally employed             438\n",
            "Formally employed Government    297\n",
            "Remittance Dependent            230\n",
            "Other Income                    183\n",
            "Government Dependent             41\n",
            "Dont Know/Refuse to answer       14\n",
            "No Income                        13\n",
            "Name: Type of Job, dtype: int64\n",
            " \n"
          ],
          "name": "stdout"
        }
      ]
    },
    {
      "cell_type": "code",
      "metadata": {
        "colab": {
          "base_uri": "https://localhost:8080/"
        },
        "id": "H3NS3fTA-GCT",
        "outputId": "1a9d68f8-823c-4a73-86a9-71209d1c5ddc"
      },
      "source": [
        "#skewness and Kurtosis\n",
        "print('Respondent age')\n",
        "print(f'skewness:  {withbank[\"Respondent Age\"].skew()}')\n",
        "print(f'Kurtosis:  {withbank[\"Respondent Age\"].kurt()}')\n",
        "print(' ')\n",
        "print('household size')\n",
        "print(f'skewness:  {withbank[\"household_size\"].skew()}')\n",
        "print(f'Kurtosis:  {withbank[\"household_size\"].kurt()}')"
      ],
      "execution_count": null,
      "outputs": [
        {
          "output_type": "stream",
          "text": [
            "Respondent age\n",
            "skewness:  0.868814039800211\n",
            "Kurtosis:  0.19470303083680562\n",
            " \n",
            "household size\n",
            "skewness:  0.5871120210067629\n",
            "Kurtosis:  -0.4947172475287682\n"
          ],
          "name": "stdout"
        }
      ]
    },
    {
      "cell_type": "markdown",
      "metadata": {
        "id": "3WggwtoilXiO"
      },
      "source": [
        "repondent age and the house hold size are both positively skewed. Both respondent age and household size are platykurtic(both are less thatn zero) meanin they are right tailed."
      ]
    },
    {
      "cell_type": "code",
      "metadata": {
        "colab": {
          "base_uri": "https://localhost:8080/"
        },
        "id": "IibVNSmNAE-E",
        "outputId": "9573562d-5765-4371-f95e-101d80090f9d"
      },
      "source": [
        "#distribution plots\n",
        "col_names =['household_size','Respondent Age']\n",
        "fig, ax = plt.subplots(len(col_names), figsize=(8,6))\n",
        "\n",
        "for i, col_val in enumerate(col_names):\n",
        "\n",
        "    sns.distplot(withbank[col_val], hist=True, ax=ax[i])\n",
        "    ax[i].set_title('Freq dist '+col_val, fontsize=10)\n",
        "    ax[i].set_xlabel(col_val, fontsize=8)\n",
        "    ax[i].set_ylabel('Count', fontsize=8);"
      ],
      "execution_count": null,
      "outputs": [
        {
          "output_type": "display_data",
          "data": {
            "image/png": "[encoded data removed]",
            "text/plain": [
              "<Figure size 576x432 with 2 Axes>"
            ]
          },
          "metadata": {
            "tags": []
          }
        }
      ]
    },
    {
      "cell_type": "markdown",
      "metadata": {
        "id": "C4k5dL0R_xI3"
      },
      "source": [
        "##Bivariate analysis"
      ]
    },
    {
      "cell_type": "code",
      "metadata": {
        "colab": {
          "base_uri": "https://localhost:8080/",
          "height": 389
        },
        "id": "4y-xdUtmBTRV",
        "outputId": "598676ca-fe98-499e-bd57-7612575dcd9b"
      },
      "source": [
        "# Ploting the bivariate summaries and recording our observation\n",
        "withbank = withbank.drop([\n",
        "      'year'\n",
        "], axis=1)\n",
        "\n",
        "sns.pairplot(withbank)"
      ],
      "execution_count": null,
      "outputs": [
        {
          "output_type": "execute_result",
          "data": {
            "text/plain": [
              "<seaborn.axisgrid.PairGrid at 0x7ff78ffdfe90>"
            ]
          },
          "metadata": {
            "tags": []
          },
          "execution_count": 179
        },
        {
          "output_type": "display_data",
          "data": {
            "image/png": "[encoded data removed]",
            "text/plain": [
              "<Figure size 360x360 with 6 Axes>"
            ]
          },
          "metadata": {
            "tags": []
          }
        }
      ]
    },
    {
      "cell_type": "code",
      "metadata": {
        "colab": {
          "base_uri": "https://localhost:8080/",
          "height": 381
        },
        "id": "W-4ZsTKYB5uc",
        "outputId": "84c52edb-a221-4cc2-f55e-f93e7da77166"
      },
      "source": [
        "sns.heatmap(withbank.corr(),annot=True)\n",
        "plt.show()"
      ],
      "execution_count": null,
      "outputs": [
        {
          "output_type": "display_data",
          "data": {
            "image/png": "[encoded data removed]",
            "text/plain": [
              "<Figure size 576x432 with 2 Axes>"
            ]
          },
          "metadata": {
            "tags": []
          }
        }
      ]
    },
    {
      "cell_type": "markdown",
      "metadata": {
        "id": "KeOIZXdoBt_a"
      },
      "source": [
        "> There is a very low but positve correlation between household size and age of respondent\n",
        "\n"
      ]
    },
    {
      "cell_type": "markdown",
      "metadata": {
        "id": "LLbbaFU2DVVZ"
      },
      "source": [
        "####**Using crosstabulation for analysis**\n",
        "\n",
        "All variables are correlated to having a bank account.\n",
        "> Hypothesis\n",
        "\n",
        "> NULL: There is no correlation between the variable being tested and having a bank account\n",
        "\n",
        "> ALTERNATIVE: There is  a correlation between the variable being tested and having a bank account.\n",
        "\n",
        "If the p-value is smaller that the alpha, we reject the null hypothesis. If the p-vale is larger than the alpha we do not reject the null hypothesis.\n",
        "\n",
        "\n",
        "\n"
      ]
    },
    {
      "cell_type": "code",
      "metadata": {
        "colab": {
          "base_uri": "https://localhost:8080/"
        },
        "id": "KdtVcmadCPvz",
        "outputId": "c972cf31-815a-42e6-9438-779bb237aca1"
      },
      "source": [
        "# Is there a correlation between type of job and if the respondent has a bank account or not\n",
        "jobtype = pd.crosstab(fin['Has a Bank account'], fin['Type of Job'])\n",
        "jobtype"
      ],
      "execution_count": null,
      "outputs": [
        {
          "output_type": "execute_result",
          "data": {
            "text/html": [
              "<div>\n",
              "<style scoped>\n",
              "    .dataframe tbody tr th:only-of-type {\n",
              "        vertical-align: middle;\n",
              "    }\n",
              "\n",
              "    .dataframe tbody tr th {\n",
              "        vertical-align: top;\n",
              "    }\n",
              "\n",
              "    .dataframe thead th {\n",
              "        text-align: right;\n",
              "    }\n",
              "</style>\n",
              "<table border=\"1\" class=\"dataframe\">\n",
              "  <thead>\n",
              "    <tr style=\"text-align: right;\">\n",
              "      <th>Type of Job</th>\n",
              "      <th>Dont Know/Refuse to answer</th>\n",
              "      <th>Farming and Fishing</th>\n",
              "      <th>Formally employed Government</th>\n",
              "      <th>Formally employed Private</th>\n",
              "      <th>Government Dependent</th>\n",
              "      <th>Informally employed</th>\n",
              "      <th>No Income</th>\n",
              "      <th>Other Income</th>\n",
              "      <th>Remittance Dependent</th>\n",
              "      <th>Self employed</th>\n",
              "    </tr>\n",
              "    <tr>\n",
              "      <th>Has a Bank account</th>\n",
              "      <th></th>\n",
              "      <th></th>\n",
              "      <th></th>\n",
              "      <th></th>\n",
              "      <th></th>\n",
              "      <th></th>\n",
              "      <th></th>\n",
              "      <th></th>\n",
              "      <th></th>\n",
              "      <th></th>\n",
              "    </tr>\n",
              "  </thead>\n",
              "  <tbody>\n",
              "    <tr>\n",
              "      <th>No</th>\n",
              "      <td>104</td>\n",
              "      <td>4676</td>\n",
              "      <td>85</td>\n",
              "      <td>471</td>\n",
              "      <td>168</td>\n",
              "      <td>5052</td>\n",
              "      <td>572</td>\n",
              "      <td>843</td>\n",
              "      <td>2145</td>\n",
              "      <td>5374</td>\n",
              "    </tr>\n",
              "    <tr>\n",
              "      <th>Yes</th>\n",
              "      <td>14</td>\n",
              "      <td>620</td>\n",
              "      <td>297</td>\n",
              "      <td>564</td>\n",
              "      <td>41</td>\n",
              "      <td>438</td>\n",
              "      <td>13</td>\n",
              "      <td>183</td>\n",
              "      <td>230</td>\n",
              "      <td>835</td>\n",
              "    </tr>\n",
              "  </tbody>\n",
              "</table>\n",
              "</div>"
            ],
            "text/plain": [
              "Type of Job         Dont Know/Refuse to answer  Farming and Fishing  Formally employed Government  Formally employed Private  Government Dependent  Informally employed  No Income  Other Income  Remittance Dependent  Self employed\n",
              "Has a Bank account                                                                                                                                                                                                                   \n",
              "No                                         104                 4676                            85                        471                   168                 5052        572           843                  2145           5374\n",
              "Yes                                         14                  620                           297                        564                    41                  438         13           183                   230            835"
            ]
          },
          "metadata": {
            "tags": []
          },
          "execution_count": 181
        }
      ]
    },
    {
      "cell_type": "code",
      "metadata": {
        "colab": {
          "base_uri": "https://localhost:8080/"
        },
        "id": "9GHvrnD6Difb",
        "outputId": "1c5973c3-5bab-4de4-f0f0-8264c12816d2"
      },
      "source": [
        "#testing the correlation using chisquare\n",
        "stat, p, dof, expected = chi2_contingency(jobtype.to_numpy())\n",
        " \n",
        "#Using significance level = 0.05(95% confidence interval)\n",
        "prob = 0.95\n",
        "critical_value = chi2.ppf(prob, dof)\n",
        " \n",
        "print(f'Alpha:             {1-prob}')\n",
        "print(f'p-value:            {p}')"
      ],
      "execution_count": null,
      "outputs": [
        {
          "output_type": "stream",
          "text": [
            "Alpha:             0.050000000000000044\n",
            "p-value:            0.0\n"
          ],
          "name": "stdout"
        }
      ]
    },
    {
      "cell_type": "markdown",
      "metadata": {
        "id": "nWr4L7EbFAaK"
      },
      "source": [
        "> Reject Null Hypothesis\n"
      ]
    },
    {
      "cell_type": "code",
      "metadata": {
        "colab": {
          "base_uri": "https://localhost:8080/"
        },
        "id": "Mc4oQO9FFX5i",
        "outputId": "f8dd9073-1002-40c6-e8eb-63c7b68d37ed"
      },
      "source": [
        "# Is there a correlation between type of job and if the respondent has Cell Phone Access or not\n",
        "cell = pd.crosstab(fin['Has a Bank account'], fin['Cell Phone Access'])\n",
        "cell"
      ],
      "execution_count": null,
      "outputs": [
        {
          "output_type": "execute_result",
          "data": {
            "text/html": [
              "<div>\n",
              "<style scoped>\n",
              "    .dataframe tbody tr th:only-of-type {\n",
              "        vertical-align: middle;\n",
              "    }\n",
              "\n",
              "    .dataframe tbody tr th {\n",
              "        vertical-align: top;\n",
              "    }\n",
              "\n",
              "    .dataframe thead th {\n",
              "        text-align: right;\n",
              "    }\n",
              "</style>\n",
              "<table border=\"1\" class=\"dataframe\">\n",
              "  <thead>\n",
              "    <tr style=\"text-align: right;\">\n",
              "      <th>Cell Phone Access</th>\n",
              "      <th>No</th>\n",
              "      <th>Yes</th>\n",
              "    </tr>\n",
              "    <tr>\n",
              "      <th>Has a Bank account</th>\n",
              "      <th></th>\n",
              "      <th></th>\n",
              "    </tr>\n",
              "  </thead>\n",
              "  <tbody>\n",
              "    <tr>\n",
              "      <th>No</th>\n",
              "      <td>5647</td>\n",
              "      <td>13843</td>\n",
              "    </tr>\n",
              "    <tr>\n",
              "      <th>Yes</th>\n",
              "      <td>93</td>\n",
              "      <td>3142</td>\n",
              "    </tr>\n",
              "  </tbody>\n",
              "</table>\n",
              "</div>"
            ],
            "text/plain": [
              "Cell Phone Access     No    Yes\n",
              "Has a Bank account             \n",
              "No                  5647  13843\n",
              "Yes                   93   3142"
            ]
          },
          "metadata": {
            "tags": []
          },
          "execution_count": 183
        }
      ]
    },
    {
      "cell_type": "code",
      "metadata": {
        "colab": {
          "base_uri": "https://localhost:8080/"
        },
        "id": "g7-ExQMuFqY3",
        "outputId": "2a786266-f238-49a6-920a-8af792ff46d3"
      },
      "source": [
        "#testing the correlation using chisquare\n",
        "stat, p, dof, expected = chi2_contingency(cell.to_numpy())\n",
        " \n",
        "#Using significance level = 0.05(95% confidence interval)\n",
        "prob = 0.95\n",
        "critical_value = chi2.ppf(prob, dof)\n",
        " \n",
        "print(f'Alpha:             {1-prob}')\n",
        "print(f'p-value:            {p}')"
      ],
      "execution_count": null,
      "outputs": [
        {
          "output_type": "stream",
          "text": [
            "Alpha:             0.050000000000000044\n",
            "p-value:            2.1072822212732086e-219\n"
          ],
          "name": "stdout"
        }
      ]
    },
    {
      "cell_type": "markdown",
      "metadata": {
        "id": "7cLwKz1rGip9"
      },
      "source": [
        "> Reject Null Hypothesis\n",
        "\n"
      ]
    },
    {
      "cell_type": "code",
      "metadata": {
        "colab": {
          "base_uri": "https://localhost:8080/"
        },
        "id": "xYgIQhNuGh_t",
        "outputId": "38946e81-fd60-4175-e13d-f8625b1362d6"
      },
      "source": [
        "# Is there a correlation between type of job and if the respondent marital_status\n",
        "status = pd.crosstab(fin['Has a Bank account'], fin['marital_status'])\n",
        "#testing the correlation using chisquare\n",
        "stat, p, dof, expected = chi2_contingency(status.to_numpy())\n",
        " \n",
        "#Using significance level = 0.05(95% confidence interval)\n",
        "prob = 0.95\n",
        "critical_value = chi2.ppf(prob, dof)\n",
        " \n",
        "print(f'Alpha:             {1-prob}')\n",
        "print(f'p-value:            {p}')"
      ],
      "execution_count": null,
      "outputs": [
        {
          "output_type": "stream",
          "text": [
            "Alpha:             0.050000000000000044\n",
            "p-value:            4.987040663302468e-39\n"
          ],
          "name": "stdout"
        }
      ]
    },
    {
      "cell_type": "markdown",
      "metadata": {
        "id": "ZTgyqyVVK9tl"
      },
      "source": [
        "\n",
        "\n",
        "> Reject Null Hypothesis\n",
        "\n"
      ]
    },
    {
      "cell_type": "code",
      "metadata": {
        "colab": {
          "base_uri": "https://localhost:8080/"
        },
        "id": "Bft0gqhGHAkO",
        "outputId": "4f9c127c-20e7-4dbe-9dd9-5bf90618afde"
      },
      "source": [
        "# Is there a correlation between type of job and if the respondent Level of Educuation\n",
        "education = pd.crosstab(fin['Has a Bank account'], fin['Level of Educuation'])\n",
        "#testing the correlation using chisquare\n",
        "stat, p, dof, expected = chi2_contingency(education.to_numpy())\n",
        " \n",
        "#Using significance level = 0.05(95% confidence interval)\n",
        "prob = 0.95\n",
        "critical_value = chi2.ppf(prob, dof)\n",
        " \n",
        "print(f'Alpha:             {1-prob}')\n",
        "print(f'p-value:            {p}')"
      ],
      "execution_count": null,
      "outputs": [
        {
          "output_type": "stream",
          "text": [
            "Alpha:             0.050000000000000044\n",
            "p-value:            0.0\n"
          ],
          "name": "stdout"
        }
      ]
    },
    {
      "cell_type": "markdown",
      "metadata": {
        "id": "_4hW6VyQLKFC"
      },
      "source": [
        "\n",
        "\n",
        "> Reject Null Hypothesis\n",
        "\n"
      ]
    },
    {
      "cell_type": "code",
      "metadata": {
        "colab": {
          "base_uri": "https://localhost:8080/"
        },
        "id": "u01uef4WH2xV",
        "outputId": "cc386a08-4392-426e-eeaf-156d50c2979c"
      },
      "source": [
        "# Is there a correlation between type of job and if the respondent Respondent Age\n",
        "age = pd.crosstab(fin['Has a Bank account'], fin['Respondent Age'])\n",
        "#testing the correlation using chisquare\n",
        "stat, p, dof, expected = chi2_contingency(age.to_numpy())\n",
        " \n",
        "#Using significance level = 0.05(95% confidence interval)\n",
        "prob = 0.95\n",
        "critical_value = chi2.ppf(prob, dof)\n",
        " \n",
        "print(f'Alpha:             {1-prob}')\n",
        "print(f'p-value:            {p}')"
      ],
      "execution_count": null,
      "outputs": [
        {
          "output_type": "stream",
          "text": [
            "Alpha:             0.050000000000000044\n",
            "p-value:            3.9042668083416926e-56\n"
          ],
          "name": "stdout"
        }
      ]
    },
    {
      "cell_type": "markdown",
      "metadata": {
        "id": "9l8u9nQmLMRZ"
      },
      "source": [
        "\n",
        "\n",
        ">Reject Null Hypothesis \n",
        "\n"
      ]
    },
    {
      "cell_type": "code",
      "metadata": {
        "colab": {
          "base_uri": "https://localhost:8080/"
        },
        "id": "BiRtMliDLOnt",
        "outputId": "993ffb64-29cb-47d7-c933-ad4206fb16e2"
      },
      "source": [
        "# Is there a correlation between type of job and if the respondent Respondent Location\n",
        "location = pd.crosstab(fin['Has a Bank account'], fin['Type of Location'])\n",
        "#testing the correlation using chisquare\n",
        "stat, p, dof, expected = chi2_contingency(location.to_numpy())\n",
        " \n",
        "#Using significance level = 0.05(95% confidence interval)\n",
        "prob = 0.95\n",
        "critical_value = chi2.ppf(prob, dof)\n",
        " \n",
        "print(f'Alpha:             {1-prob}')\n",
        "print(f'p-value:            {p}')"
      ],
      "execution_count": null,
      "outputs": [
        {
          "output_type": "stream",
          "text": [
            "Alpha:             0.050000000000000044\n",
            "p-value:            2.846901481187161e-42\n"
          ],
          "name": "stdout"
        }
      ]
    },
    {
      "cell_type": "markdown",
      "metadata": {
        "id": "U84jn1t2Lifq"
      },
      "source": [
        "Reject Null Hypothesis"
      ]
    },
    {
      "cell_type": "code",
      "metadata": {
        "colab": {
          "base_uri": "https://localhost:8080/"
        },
        "id": "61wkq80FL7ST",
        "outputId": "a6cd85bf-212c-459a-8ca3-f309081711f2"
      },
      "source": [
        "#Visualization\n",
        "plt.figure(figsize=(15, 4))\n",
        "\n",
        "fin.groupby('The relathip with head')['Has a Bank account'].value_counts().unstack().plot.barh(stacked=True)\n",
        "plt.title('Respondent The relatioship with head', weight = 'heavy')"
      ],
      "execution_count": null,
      "outputs": [
        {
          "output_type": "execute_result",
          "data": {
            "text/plain": [
              "Text(0.5, 1.0, 'Respondent The relatioship with head')"
            ]
          },
          "metadata": {
            "tags": []
          },
          "execution_count": 189
        },
        {
          "output_type": "display_data",
          "data": {
            "text/plain": [
              "<Figure size 1080x288 with 0 Axes>"
            ]
          },
          "metadata": {
            "tags": []
          }
        },
        {
          "output_type": "display_data",
          "data": {
            "image/png": "[encoded data removed]",
            "text/plain": [
              "<Figure size 576x432 with 1 Axes>"
            ]
          },
          "metadata": {
            "tags": []
          }
        }
      ]
    },
    {
      "cell_type": "code",
      "metadata": {
        "colab": {
          "base_uri": "https://localhost:8080/"
        },
        "id": "Rgj-ojpJNcz_",
        "outputId": "5e91e51b-2931-42df-830f-21a089576e9e"
      },
      "source": [
        "#level of education visualization\n",
        "plt.figure(figsize=(15, 4))\n",
        "\n",
        "fin.groupby('Level of Educuation')['Has a Bank account'].value_counts().unstack().plot.barh(stacked=True)\n",
        "plt.title('Respondent Level of Educuation', weight = 'heavy')\n",
        "plt.xticks(rotation = 90)"
      ],
      "execution_count": null,
      "outputs": [
        {
          "output_type": "execute_result",
          "data": {
            "text/plain": [
              "(array([    0.,  2000.,  4000.,  6000.,  8000., 10000., 12000., 14000.]),\n",
              " <a list of 8 Text major ticklabel objects>)"
            ]
          },
          "metadata": {
            "tags": []
          },
          "execution_count": 190
        },
        {
          "output_type": "display_data",
          "data": {
            "text/plain": [
              "<Figure size 1080x288 with 0 Axes>"
            ]
          },
          "metadata": {
            "tags": []
          }
        },
        {
          "output_type": "display_data",
          "data": {
            "image/png": "[encoded data removed]",
            "text/plain": [
              "<Figure size 576x432 with 1 Axes>"
            ]
          },
          "metadata": {
            "tags": []
          }
        }
      ]
    },
    {
      "cell_type": "code",
      "metadata": {
        "colab": {
          "base_uri": "https://localhost:8080/"
        },
        "id": "FEuj-5tXN_SJ",
        "outputId": "fd5030f7-e51a-483d-8267-9dd7d5cc4631"
      },
      "source": [
        "#Marital Status visualization\n",
        "plt.figure(figsize=(15, 4))\n",
        "fin.groupby('marital_status')['Has a Bank account'].value_counts().unstack().plot.barh(stacked=True)\n",
        "plt.title('Respondent With Bank Account', weight = 'heavy')\n",
        "plt.xticks(rotation = 30)"
      ],
      "execution_count": null,
      "outputs": [
        {
          "output_type": "execute_result",
          "data": {
            "text/plain": [
              "(array([    0.,  2000.,  4000.,  6000.,  8000., 10000., 12000.]),\n",
              " <a list of 7 Text major ticklabel objects>)"
            ]
          },
          "metadata": {
            "tags": []
          },
          "execution_count": 191
        },
        {
          "output_type": "display_data",
          "data": {
            "text/plain": [
              "<Figure size 1080x288 with 0 Axes>"
            ]
          },
          "metadata": {
            "tags": []
          }
        },
        {
          "output_type": "display_data",
          "data": {
            "image/png": "[encoded data removed]",
            "text/plain": [
              "<Figure size 576x432 with 1 Axes>"
            ]
          },
          "metadata": {
            "tags": []
          }
        }
      ]
    },
    {
      "cell_type": "code",
      "metadata": {
        "colab": {
          "base_uri": "https://localhost:8080/",
          "height": 356
        },
        "id": "dHgN718uoSVl",
        "outputId": "b9881a54-19f0-44f2-f0a7-1bbfcad91576"
      },
      "source": [
        "#box plot agevs bank account\n",
        "plt.figure(figsize=(6,5))\n",
        "sns.boxplot(x = 'Has a Bank account', y = 'Respondent Age', data=fin,showmeans=True)"
      ],
      "execution_count": 233,
      "outputs": [
        {
          "output_type": "execute_result",
          "data": {
            "text/plain": [
              "<matplotlib.axes._subplots.AxesSubplot at 0x7ff78fa7f050>"
            ]
          },
          "metadata": {
            "tags": []
          },
          "execution_count": 233
        },
        {
          "output_type": "display_data",
          "data": {
            "image/png": "[encoded data removed]",
            "text/plain": [
              "<Figure size 432x360 with 1 Axes>"
            ]
          },
          "metadata": {
            "tags": []
          }
        }
      ]
    },
    {
      "cell_type": "code",
      "metadata": {
        "colab": {
          "base_uri": "https://localhost:8080/"
        },
        "id": "H_7gHT6iOVoi",
        "outputId": "48ee0d61-7479-4cdf-d71b-2752ec5a7580"
      },
      "source": [
        "#Type of Location visualization\n",
        "plt.figure(figsize=(15, 4))\n",
        "\n",
        "fin.groupby('Type of Location')['Has a Bank account'].value_counts().unstack().plot.bar(stacked=True)\n",
        "plt.title('Respondent With Bank Account', weight = 'heavy')\n",
        "plt.xticks(rotation = 0)"
      ],
      "execution_count": null,
      "outputs": [
        {
          "output_type": "execute_result",
          "data": {
            "text/plain": [
              "(array([0, 1]), <a list of 2 Text major ticklabel objects>)"
            ]
          },
          "metadata": {
            "tags": []
          },
          "execution_count": 192
        },
        {
          "output_type": "display_data",
          "data": {
            "text/plain": [
              "<Figure size 1080x288 with 0 Axes>"
            ]
          },
          "metadata": {
            "tags": []
          }
        },
        {
          "output_type": "display_data",
          "data": {
            "image/png": "[encoded data removed]",
            "text/plain": [
              "<Figure size 576x432 with 1 Axes>"
            ]
          },
          "metadata": {
            "tags": []
          }
        }
      ]
    },
    {
      "cell_type": "code",
      "metadata": {
        "colab": {
          "base_uri": "https://localhost:8080/"
        },
        "id": "2mh51uENOjGZ",
        "outputId": "60ec1154-5f69-4250-eb40-8b8fa20b29ac"
      },
      "source": [
        "#Cell Phone Access visualization\n",
        "plt.figure(figsize=(15, 4))\n",
        "\n",
        "fin.groupby('Cell Phone Access')['Has a Bank account'].value_counts().unstack().plot.bar(stacked=True)\n",
        "plt.title('Respondent Cell Phone Access', weight = 'heavy')\n",
        "plt.xticks(rotation= 0)"
      ],
      "execution_count": null,
      "outputs": [
        {
          "output_type": "execute_result",
          "data": {
            "text/plain": [
              "(array([0, 1]), <a list of 2 Text major ticklabel objects>)"
            ]
          },
          "metadata": {
            "tags": []
          },
          "execution_count": 193
        },
        {
          "output_type": "display_data",
          "data": {
            "text/plain": [
              "<Figure size 1080x288 with 0 Axes>"
            ]
          },
          "metadata": {
            "tags": []
          }
        },
        {
          "output_type": "display_data",
          "data": {
            "image/png": "[encoded data removed]",
            "text/plain": [
              "<Figure size 576x432 with 1 Axes>"
            ]
          },
          "metadata": {
            "tags": []
          }
        }
      ]
    },
    {
      "cell_type": "code",
      "metadata": {
        "colab": {
          "base_uri": "https://localhost:8080/"
        },
        "id": "yaXqN1SXO0Q2",
        "outputId": "f2e8ac96-16de-4d7f-c1bc-f7693439ec89"
      },
      "source": [
        "#household_size visualization\n",
        "plt.figure(figsize=(15, 4))\n",
        "\n",
        "fin.groupby('household_size')['Has a Bank account'].value_counts().unstack().plot.bar(stacked=True)\n",
        "plt.title('Respondent household size', weight = 'heavy')\n",
        "plt.xticks(rotation= 0)"
      ],
      "execution_count": null,
      "outputs": [
        {
          "output_type": "execute_result",
          "data": {
            "text/plain": [
              "(array([0, 1, 2, 3, 4, 5, 6, 7, 8, 9]),\n",
              " <a list of 10 Text major ticklabel objects>)"
            ]
          },
          "metadata": {
            "tags": []
          },
          "execution_count": 194
        },
        {
          "output_type": "display_data",
          "data": {
            "text/plain": [
              "<Figure size 1080x288 with 0 Axes>"
            ]
          },
          "metadata": {
            "tags": []
          }
        },
        {
          "output_type": "display_data",
          "data": {
            "image/png": "[encoded data removed]",
            "text/plain": [
              "<Figure size 576x432 with 1 Axes>"
            ]
          },
          "metadata": {
            "tags": []
          }
        }
      ]
    },
    {
      "cell_type": "code",
      "metadata": {
        "colab": {
          "base_uri": "https://localhost:8080/"
        },
        "id": "MccTNxLrPCbJ",
        "outputId": "ce0c3d74-2c25-45e2-e2f9-f0db31450445"
      },
      "source": [
        "#country visualization\n",
        "plt.figure(figsize=(15, 4))\n",
        "\n",
        "fin.groupby('country')['Has a Bank account'].value_counts().unstack().plot.bar(stacked=True)\n",
        "plt.title('Respondent country', weight = 'heavy')\n",
        "plt.xticks(rotation= 0)"
      ],
      "execution_count": null,
      "outputs": [
        {
          "output_type": "execute_result",
          "data": {
            "text/plain": [
              "(array([0, 1, 2, 3]), <a list of 4 Text major ticklabel objects>)"
            ]
          },
          "metadata": {
            "tags": []
          },
          "execution_count": 195
        },
        {
          "output_type": "display_data",
          "data": {
            "text/plain": [
              "<Figure size 1080x288 with 0 Axes>"
            ]
          },
          "metadata": {
            "tags": []
          }
        },
        {
          "output_type": "display_data",
          "data": {
            "image/png": "[encoded data removed]",
            "text/plain": [
              "<Figure size 576x432 with 1 Axes>"
            ]
          },
          "metadata": {
            "tags": []
          }
        }
      ]
    },
    {
      "cell_type": "markdown",
      "metadata": {
        "id": "A8Pj-DIUSyc3"
      },
      "source": [
        "###Multivariete Analysis"
      ]
    },
    {
      "cell_type": "code",
      "metadata": {
        "id": "ZkvoXtv7S-8K"
      },
      "source": [
        "# Encode categorical features\n",
        "df = fin.drop('Has a Bank account', axis=1)\n",
        "\n",
        "#Convert year variable to object\n",
        "df['year'] = df['year'].astype('object')\n",
        "\n",
        "# Get categorical codes for categorical columns\n",
        "categorical_columns = ['country', 'year', 'Type of Location','Cell Phone Access', 'gender_of_respondent', 'The relathip with head', 'marital_status', 'Level of Educuation','Type of Job']\n",
        "\n",
        "for col in categorical_columns:\n",
        "  df[col] = df[col].astype('category').cat.codes"
      ],
      "execution_count": null,
      "outputs": []
    },
    {
      "cell_type": "code",
      "metadata": {
        "colab": {
          "base_uri": "https://localhost:8080/",
          "height": 269
        },
        "id": "JnMiyiEfTlZp",
        "outputId": "68b3ed69-8183-4d06-8a27-347ba3da9800"
      },
      "source": [
        "#preview the dataset and set uniqueid as the index\n",
        "df = df.set_index('uniqueid')\n",
        "df.head(5)"
      ],
      "execution_count": null,
      "outputs": [
        {
          "output_type": "execute_result",
          "data": {
            "text/html": [
              "<div>\n",
              "<style scoped>\n",
              "    .dataframe tbody tr th:only-of-type {\n",
              "        vertical-align: middle;\n",
              "    }\n",
              "\n",
              "    .dataframe tbody tr th {\n",
              "        vertical-align: top;\n",
              "    }\n",
              "\n",
              "    .dataframe thead th {\n",
              "        text-align: right;\n",
              "    }\n",
              "</style>\n",
              "<table border=\"1\" class=\"dataframe\">\n",
              "  <thead>\n",
              "    <tr style=\"text-align: right;\">\n",
              "      <th></th>\n",
              "      <th>country</th>\n",
              "      <th>year</th>\n",
              "      <th>Type of Location</th>\n",
              "      <th>Cell Phone Access</th>\n",
              "      <th>household_size</th>\n",
              "      <th>Respondent Age</th>\n",
              "      <th>gender_of_respondent</th>\n",
              "      <th>The relathip with head</th>\n",
              "      <th>marital_status</th>\n",
              "      <th>Level of Educuation</th>\n",
              "      <th>Type of Job</th>\n",
              "    </tr>\n",
              "    <tr>\n",
              "      <th>uniqueid</th>\n",
              "      <th></th>\n",
              "      <th></th>\n",
              "      <th></th>\n",
              "      <th></th>\n",
              "      <th></th>\n",
              "      <th></th>\n",
              "      <th></th>\n",
              "      <th></th>\n",
              "      <th></th>\n",
              "      <th></th>\n",
              "      <th></th>\n",
              "    </tr>\n",
              "  </thead>\n",
              "  <tbody>\n",
              "    <tr>\n",
              "      <th>uniqueid_1</th>\n",
              "      <td>0</td>\n",
              "      <td>2</td>\n",
              "      <td>0</td>\n",
              "      <td>1</td>\n",
              "      <td>3.0</td>\n",
              "      <td>24.0</td>\n",
              "      <td>0</td>\n",
              "      <td>5</td>\n",
              "      <td>2</td>\n",
              "      <td>4</td>\n",
              "      <td>9</td>\n",
              "    </tr>\n",
              "    <tr>\n",
              "      <th>uniqueid_2</th>\n",
              "      <td>0</td>\n",
              "      <td>2</td>\n",
              "      <td>0</td>\n",
              "      <td>0</td>\n",
              "      <td>5.0</td>\n",
              "      <td>70.0</td>\n",
              "      <td>0</td>\n",
              "      <td>1</td>\n",
              "      <td>4</td>\n",
              "      <td>1</td>\n",
              "      <td>4</td>\n",
              "    </tr>\n",
              "    <tr>\n",
              "      <th>uniqueid_3</th>\n",
              "      <td>0</td>\n",
              "      <td>2</td>\n",
              "      <td>1</td>\n",
              "      <td>1</td>\n",
              "      <td>5.0</td>\n",
              "      <td>26.0</td>\n",
              "      <td>1</td>\n",
              "      <td>3</td>\n",
              "      <td>3</td>\n",
              "      <td>6</td>\n",
              "      <td>9</td>\n",
              "    </tr>\n",
              "    <tr>\n",
              "      <th>uniqueid_4</th>\n",
              "      <td>0</td>\n",
              "      <td>2</td>\n",
              "      <td>0</td>\n",
              "      <td>1</td>\n",
              "      <td>5.0</td>\n",
              "      <td>34.0</td>\n",
              "      <td>0</td>\n",
              "      <td>1</td>\n",
              "      <td>2</td>\n",
              "      <td>3</td>\n",
              "      <td>3</td>\n",
              "    </tr>\n",
              "    <tr>\n",
              "      <th>uniqueid_5</th>\n",
              "      <td>0</td>\n",
              "      <td>2</td>\n",
              "      <td>1</td>\n",
              "      <td>0</td>\n",
              "      <td>8.0</td>\n",
              "      <td>26.0</td>\n",
              "      <td>1</td>\n",
              "      <td>0</td>\n",
              "      <td>3</td>\n",
              "      <td>3</td>\n",
              "      <td>5</td>\n",
              "    </tr>\n",
              "  </tbody>\n",
              "</table>\n",
              "</div>"
            ],
            "text/plain": [
              "            country  year  Type of Location  Cell Phone Access  household_size  Respondent Age  gender_of_respondent  The relathip with head  marital_status  Level of Educuation  Type of Job\n",
              "uniqueid                                                                                                                                                                                      \n",
              "uniqueid_1        0     2                 0                  1             3.0            24.0                     0                       5               2                    4            9\n",
              "uniqueid_2        0     2                 0                  0             5.0            70.0                     0                       1               4                    1            4\n",
              "uniqueid_3        0     2                 1                  1             5.0            26.0                     1                       3               3                    6            9\n",
              "uniqueid_4        0     2                 0                  1             5.0            34.0                     0                       1               2                    3            3\n",
              "uniqueid_5        0     2                 1                  0             8.0            26.0                     1                       0               3                    3            5"
            ]
          },
          "metadata": {
            "tags": []
          },
          "execution_count": 198
        }
      ]
    },
    {
      "cell_type": "code",
      "metadata": {
        "id": "N_fsYHLuU69K"
      },
      "source": [
        "#defining x and y\n",
        "X = df.drop('Level of Educuation', 1)\n",
        "y = df['Level of Educuation']"
      ],
      "execution_count": null,
      "outputs": []
    },
    {
      "cell_type": "code",
      "metadata": {
        "id": "t9lvFtUxVFZY"
      },
      "source": [
        "#Splitting the dataset into the Training set and Test set\n",
        "\n",
        "#\n",
        "from sklearn.model_selection import train_test_split\n",
        "\n",
        "X_train, X_test, y_train, y_test = train_test_split(X, y, test_size=0.2, random_state=0)"
      ],
      "execution_count": null,
      "outputs": []
    },
    {
      "cell_type": "code",
      "metadata": {
        "id": "Axf3L3R5VLsT"
      },
      "source": [
        "# Normalization\n",
        "\n",
        "# We will perform standard scalar normalization to normalize our feature set. \n",
        "\n",
        "\n",
        "sc = StandardScaler()\n",
        "X_train = sc.fit_transform(X_train)\n",
        "X_test = sc.transform(X_test)"
      ],
      "execution_count": null,
      "outputs": []
    },
    {
      "cell_type": "code",
      "metadata": {
        "id": "oLlEZgcFVTD-"
      },
      "source": [
        "#Applying PCA\n",
        "\n",
        "df['household_size'] = df['household_size'].apply(np.int64)\n",
        "df['Respondent Age'] = df['Respondent Age'].apply(np.int64)\n",
        "# \n",
        "from sklearn.decomposition import PCA\n",
        "\n",
        "pca = PCA()\n",
        "X_train = pca.fit_transform(X_train)\n",
        "X_test = pca.transform(X_test)"
      ],
      "execution_count": null,
      "outputs": []
    },
    {
      "cell_type": "code",
      "metadata": {
        "colab": {
          "base_uri": "https://localhost:8080/"
        },
        "id": "NK2PUfjPbvIE",
        "outputId": "6f588814-d04a-4e10-e90f-61da408a4125"
      },
      "source": [
        "#Explained Variance Ratio\n",
        "\n",
        "explained_variance = pca.explained_variance_ratio_\n",
        "\n",
        "\n",
        "\n",
        "# first principal component is responsible for 20.06% variance. \n",
        "# Similarly, the second principal component causes 15.62variance in the dataset. \n",
        "# Collectively we can say that (20.06 + 15.62+11.14%) 46.82% percent of the classification information contained \n",
        "# in the feature set is captured by the first two principal components.\n",
        "explained_variance"
      ],
      "execution_count": null,
      "outputs": [
        {
          "output_type": "execute_result",
          "data": {
            "text/plain": [
              "array([0.20062372, 0.15618715, 0.1301582 , 0.11137863, 0.09035956,\n",
              "       0.08204183, 0.07343546, 0.06503047, 0.04882948, 0.04195551])"
            ]
          },
          "metadata": {
            "tags": []
          },
          "execution_count": 203
        }
      ]
    },
    {
      "cell_type": "code",
      "metadata": {
        "id": "F0mBf_1_cvWH"
      },
      "source": [
        "# Using 1 Principal Component\n",
        "# \n",
        "# \n",
        "from sklearn.decomposition import PCA\n",
        "\n",
        "pca = PCA(n_components=1)\n",
        "X_train = pca.fit_transform(X_train)\n",
        "X_test = pca.transform(X_test)"
      ],
      "execution_count": null,
      "outputs": []
    },
    {
      "cell_type": "code",
      "metadata": {
        "id": "B6r2mgYYc8MF"
      },
      "source": [
        "# Training and Making Predictions - Random Forest\n",
        ".\n",
        "# \n",
        "from sklearn.ensemble import RandomForestClassifier\n",
        "\n",
        "classifier = RandomForestClassifier(max_depth=2, random_state=0)\n",
        "classifier.fit(X_train, y_train)\n",
        "\n",
        "# Predicting the Test set results\n",
        "y_pred = classifier.predict(X_test)"
      ],
      "execution_count": null,
      "outputs": []
    },
    {
      "cell_type": "code",
      "metadata": {
        "colab": {
          "base_uri": "https://localhost:8080/"
        },
        "id": "NZcYUy8LdHz6",
        "outputId": "928ba20f-dfb5-4574-c059-52a653597f04"
      },
      "source": [
        "#Performance Evaluation\n",
        "# \n",
        "from sklearn.metrics import confusion_matrix\n",
        "from sklearn.metrics import accuracy_score\n",
        "\n",
        "cm = confusion_matrix(y_test, y_pred)\n",
        "print(cm)\n",
        "print('Accuracy' , accuracy_score(y_test, y_pred))\n",
        "\n",
        "#eando forest has a 54.32% level of accuracy using 1 PCA"
      ],
      "execution_count": null,
      "outputs": [
        {
          "output_type": "stream",
          "text": [
            "[[   0    0    0    4    0    0    0]\n",
            " [   0    0    0  864    0    0    0]\n",
            " [   0    0    0    3    0    0    0]\n",
            " [   0    0    0 2469    0    0    0]\n",
            " [   0    0    0  806    0    0    0]\n",
            " [   0    0    0  242    0    0    0]\n",
            " [   0    0    0  157    0    0    0]]\n",
            "Accuracy 0.5432343234323432\n"
          ],
          "name": "stdout"
        }
      ]
    },
    {
      "cell_type": "markdown",
      "metadata": {
        "id": "WsQiSSsogmjz"
      },
      "source": [
        "#**CONCLUSION**"
      ]
    },
    {
      "cell_type": "markdown",
      "metadata": {
        "id": "Fu6i5iDrgt5Z"
      },
      "source": [
        "The proportion of individuals with no bank accounts is extremely high in comparison to those with that have a bank account.\n",
        "\n",
        "The respondent characteristics such as locaion, job type, age, level of education as well as accesss to a cellphone having a significant impact on whether an individual has an account or not.\n",
        "\n",
        "most of the repondent with bank accouns were:\n",
        "      Male\n",
        "      Head of the household\n",
        "      self Employed\n",
        "      Married/Living with partner\n",
        "      Primary School level of education\n",
        "      In Kenya\n",
        "      had cellphone access\n",
        "The number of respondents with bank account in rural areas were almost equal to those in the urban areas.\n",
        "\n",
        "The random forest prediction model at the 1st PCA had a 54.32 leve of accurancy.\n",
        "\n"
      ]
    }
  ]
}